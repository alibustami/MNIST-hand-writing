{
 "cells": [
  {
   "cell_type": "markdown",
   "metadata": {},
   "source": [
    "# MNIST "
   ]
  },
  {
   "cell_type": "markdown",
   "metadata": {},
   "source": [
    "## Install the required packages"
   ]
  },
  {
   "cell_type": "code",
   "execution_count": 1,
   "metadata": {},
   "outputs": [
    {
     "name": "stdout",
     "output_type": "stream",
     "text": [
      "Requirement already satisfied: torch==2.2.0 in /Users/aalbustami/miniconda3/envs/ml-pytorch-book-env/lib/python3.8/site-packages (2.2.0)\n",
      "Requirement already satisfied: torchvision==0.17.0 in /Users/aalbustami/miniconda3/envs/ml-pytorch-book-env/lib/python3.8/site-packages (0.17.0)\n",
      "Requirement already satisfied: filelock in /Users/aalbustami/miniconda3/envs/ml-pytorch-book-env/lib/python3.8/site-packages (from torch==2.2.0) (3.13.1)\n",
      "Requirement already satisfied: typing-extensions>=4.8.0 in /Users/aalbustami/miniconda3/envs/ml-pytorch-book-env/lib/python3.8/site-packages (from torch==2.2.0) (4.9.0)\n",
      "Requirement already satisfied: sympy in /Users/aalbustami/miniconda3/envs/ml-pytorch-book-env/lib/python3.8/site-packages (from torch==2.2.0) (1.12)\n",
      "Requirement already satisfied: networkx in /Users/aalbustami/miniconda3/envs/ml-pytorch-book-env/lib/python3.8/site-packages (from torch==2.2.0) (3.1)\n",
      "Requirement already satisfied: jinja2 in /Users/aalbustami/miniconda3/envs/ml-pytorch-book-env/lib/python3.8/site-packages (from torch==2.2.0) (3.1.3)\n",
      "Requirement already satisfied: fsspec in /Users/aalbustami/miniconda3/envs/ml-pytorch-book-env/lib/python3.8/site-packages (from torch==2.2.0) (2023.12.2)\n",
      "Requirement already satisfied: numpy in /Users/aalbustami/miniconda3/envs/ml-pytorch-book-env/lib/python3.8/site-packages (from torchvision==0.17.0) (1.24.4)\n",
      "Requirement already satisfied: requests in /Users/aalbustami/miniconda3/envs/ml-pytorch-book-env/lib/python3.8/site-packages (from torchvision==0.17.0) (2.31.0)\n",
      "Requirement already satisfied: pillow!=8.3.*,>=5.3.0 in /Users/aalbustami/miniconda3/envs/ml-pytorch-book-env/lib/python3.8/site-packages (from torchvision==0.17.0) (10.2.0)\n",
      "Requirement already satisfied: MarkupSafe>=2.0 in /Users/aalbustami/miniconda3/envs/ml-pytorch-book-env/lib/python3.8/site-packages (from jinja2->torch==2.2.0) (2.1.4)\n",
      "Requirement already satisfied: charset-normalizer<4,>=2 in /Users/aalbustami/miniconda3/envs/ml-pytorch-book-env/lib/python3.8/site-packages (from requests->torchvision==0.17.0) (3.3.2)\n",
      "Requirement already satisfied: idna<4,>=2.5 in /Users/aalbustami/miniconda3/envs/ml-pytorch-book-env/lib/python3.8/site-packages (from requests->torchvision==0.17.0) (3.6)\n",
      "Requirement already satisfied: urllib3<3,>=1.21.1 in /Users/aalbustami/miniconda3/envs/ml-pytorch-book-env/lib/python3.8/site-packages (from requests->torchvision==0.17.0) (2.2.0)\n",
      "Requirement already satisfied: certifi>=2017.4.17 in /Users/aalbustami/miniconda3/envs/ml-pytorch-book-env/lib/python3.8/site-packages (from requests->torchvision==0.17.0) (2024.2.2)\n",
      "Requirement already satisfied: mpmath>=0.19 in /Users/aalbustami/miniconda3/envs/ml-pytorch-book-env/lib/python3.8/site-packages (from sympy->torch==2.2.0) (1.3.0)\n"
     ]
    }
   ],
   "source": [
    "!pip install torch==2.2.0 torchvision==0.17.0"
   ]
  },
  {
   "cell_type": "markdown",
   "metadata": {},
   "source": [
    "## Install Dataset"
   ]
  },
  {
   "cell_type": "code",
   "execution_count": 2,
   "metadata": {},
   "outputs": [],
   "source": [
    "import torchvision\n",
    "from torchvision import transforms\n",
    "import torch\n",
    "from torch.utils.data import DataLoader\n",
    "\n",
    "image_path = './'\n",
    "transform = transforms.Compose([transforms.ToTensor()])\n",
    "\n",
    "mnist_train_dataset = torchvision.datasets.MNIST(\n",
    "    root=image_path, train=True, transform=transform, download=True)\n",
    "mnist_test_dataset = torchvision.datasets.MNIST(\n",
    "    root=image_path, train=False, transform=transform, download=True)\n",
    "\n",
    "batch_size = 64\n",
    "torch.manual_seed(1)\n",
    "train_dl = DataLoader(mnist_train_dataset, batch_size, shuffle=True)"
   ]
  },
  {
   "cell_type": "markdown",
   "metadata": {},
   "source": [
    "## Model Construction"
   ]
  },
  {
   "cell_type": "code",
   "execution_count": 3,
   "metadata": {},
   "outputs": [
    {
     "data": {
      "text/plain": [
       "Sequential(\n",
       "  (0): Flatten(start_dim=1, end_dim=-1)\n",
       "  (1): Linear(in_features=784, out_features=32, bias=True)\n",
       "  (2): ReLU()\n",
       "  (3): Linear(in_features=32, out_features=16, bias=True)\n",
       "  (4): ReLU()\n",
       "  (5): Linear(in_features=16, out_features=10, bias=True)\n",
       ")"
      ]
     },
     "execution_count": 3,
     "metadata": {},
     "output_type": "execute_result"
    }
   ],
   "source": [
    "from torch import nn\n",
    "\n",
    "hidden_units = [32, 16]\n",
    "image_size = mnist_train_dataset[0][0].shape\n",
    "input_size = image_size[0] * image_size[1] * image_size[2]\n",
    "\n",
    "all_layers = [nn.Flatten()]\n",
    "\n",
    "for hidden_unit in hidden_units:\n",
    "    layer = nn.Linear(input_size, hidden_unit)\n",
    "    all_layers.append(layer)\n",
    "    all_layers.append(nn.ReLU())\n",
    "\n",
    "    input_size = hidden_unit\n",
    "\n",
    "all_layers.append(nn.Linear(hidden_units[-1], 10))\n",
    "\n",
    "model = nn.Sequential(*all_layers)\n",
    "model"
   ]
  },
  {
   "cell_type": "markdown",
   "metadata": {},
   "source": [
    "## Model Training"
   ]
  },
  {
   "cell_type": "code",
   "execution_count": 4,
   "metadata": {},
   "outputs": [
    {
     "name": "stdout",
     "output_type": "stream",
     "text": [
      "Epoch 0 \tAccuracy\t0.8531\n",
      "Epoch 1 \tAccuracy\t0.9287\n",
      "Epoch 2 \tAccuracy\t0.9413\n",
      "Epoch 3 \tAccuracy\t0.9506\n",
      "Epoch 4 \tAccuracy\t0.9558\n",
      "Epoch 5 \tAccuracy\t0.9592\n",
      "Epoch 6 \tAccuracy\t0.9627\n",
      "Epoch 7 \tAccuracy\t0.9650\n",
      "Epoch 8 \tAccuracy\t0.9674\n",
      "Epoch 9 \tAccuracy\t0.9690\n",
      "Epoch 10 \tAccuracy\t0.9710\n",
      "Epoch 11 \tAccuracy\t0.9729\n",
      "Epoch 12 \tAccuracy\t0.9739\n",
      "Epoch 13 \tAccuracy\t0.9750\n",
      "Epoch 14 \tAccuracy\t0.9764\n",
      "Epoch 15 \tAccuracy\t0.9777\n",
      "Epoch 16 \tAccuracy\t0.9779\n",
      "Epoch 17 \tAccuracy\t0.9798\n",
      "Epoch 18 \tAccuracy\t0.9807\n",
      "Epoch 19 \tAccuracy\t0.9813\n"
     ]
    }
   ],
   "source": [
    "loss_fn = nn.CrossEntropyLoss()\n",
    "optimizer = torch.optim.Adam(model.parameters(), lr=0.001)\n",
    "\n",
    "torch.manual_seed(1)\n",
    "num_epochs = 20\n",
    "\n",
    "for epoch in range(num_epochs):\n",
    "    accuracy_hist_train = 0\n",
    "    for x_batch, y_batch in train_dl:\n",
    "        pred = model(x_batch)\n",
    "        loss = loss_fn(pred, y_batch)\n",
    "\n",
    "        loss.backward()\n",
    "        optimizer.step()\n",
    "        optimizer.zero_grad()\n",
    "        is_correct = (torch.argmax(pred, dim=1) == y_batch).float()\n",
    "        accuracy_hist_train += is_correct.sum()\n",
    "    \n",
    "    \n",
    "    accuracy_hist_train /= len(train_dl.dataset)\n",
    "    print(f'Epoch {epoch} \\tAccuracy\\t{accuracy_hist_train:.4f}')"
   ]
  },
  {
   "cell_type": "markdown",
   "metadata": {},
   "source": [
    "## Model Evaluation"
   ]
  },
  {
   "cell_type": "code",
   "execution_count": 5,
   "metadata": {},
   "outputs": [
    {
     "name": "stdout",
     "output_type": "stream",
     "text": [
      "Test Accuract: 0.9653\n"
     ]
    }
   ],
   "source": [
    "pred = model(mnist_test_dataset.data / 255.)\n",
    "is_correct = (torch.argmax(pred, dim=1) == mnist_test_dataset.targets).float()\n",
    "\n",
    "print(f'Test Accuract: {is_correct.mean():.4f}')"
   ]
  }
 ],
 "metadata": {
  "kernelspec": {
   "display_name": "ml-pytorch-book-env",
   "language": "python",
   "name": "python3"
  },
  "language_info": {
   "codemirror_mode": {
    "name": "ipython",
    "version": 3
   },
   "file_extension": ".py",
   "mimetype": "text/x-python",
   "name": "python",
   "nbconvert_exporter": "python",
   "pygments_lexer": "ipython3",
   "version": "3.8.18"
  }
 },
 "nbformat": 4,
 "nbformat_minor": 2
}
